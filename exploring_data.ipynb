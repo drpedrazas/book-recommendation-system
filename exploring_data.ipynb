{
 "cells": [
  {
   "cell_type": "code",
   "execution_count": 4,
   "metadata": {},
   "outputs": [],
   "source": [
    "import pandas as pd\n",
    "import numpy as np\n",
    "raw = pd.read_csv('/home/david/Documents/Computer_Science/Machine Learning/datasets/ratings_Books.csv')"
   ]
  },
  {
   "cell_type": "code",
   "execution_count": 7,
   "metadata": {},
   "outputs": [],
   "source": [
    "raw.columns = ['user','item','rating','timestamp']"
   ]
  },
  {
   "cell_type": "code",
   "execution_count": 10,
   "metadata": {},
   "outputs": [
    {
     "data": {
      "text/plain": [
       "0           0000000116\n",
       "1           0000000868\n",
       "2           0000013714\n",
       "3           0000013714\n",
       "4           0000013714\n",
       "               ...    \n",
       "22507149    B00M13FNSS\n",
       "22507150    B00M13FNSS\n",
       "22507151    B00M13FNSS\n",
       "22507152    B00M13FNSS\n",
       "22507153    B00M13FNSS\n",
       "Name: item, Length: 22507154, dtype: object"
      ]
     },
     "execution_count": 10,
     "metadata": {},
     "output_type": "execute_result"
    }
   ],
   "source": [
    "raw['item']"
   ]
  },
  {
   "cell_type": "code",
   "execution_count": 11,
   "metadata": {},
   "outputs": [
    {
     "data": {
      "text/plain": [
       "A14OJS0VWMOSWO    43201\n",
       "AFVQZQ8PW0L       28816\n",
       "A2F6N60Z96CAJI     6121\n",
       "A320TMDV6KCFU      5955\n",
       "A2OJW07GQRNJUT     5443\n",
       "                  ...  \n",
       "A389ZNA4C7I46X        1\n",
       "A255GUDE96ETC9        1\n",
       "A1Z6ROAQH79IFF        1\n",
       "AIAD8TUMTG0RX         1\n",
       "AHN3LZCEOH3OK         1\n",
       "Name: user, Length: 8026324, dtype: int64"
      ]
     },
     "execution_count": 11,
     "metadata": {},
     "output_type": "execute_result"
    }
   ],
   "source": [
    "raw['user'].value_counts()"
   ]
  },
  {
   "cell_type": "code",
   "execution_count": 12,
   "metadata": {},
   "outputs": [
    {
     "data": {
      "text/plain": [
       "0439023483    21398\n",
       "030758836X    19867\n",
       "0439023513    14114\n",
       "0385537859    12973\n",
       "0007444117    12629\n",
       "              ...  \n",
       "0762741805        1\n",
       "1442165030        1\n",
       "B00JN8GRHK        1\n",
       "1603686185        1\n",
       "0974803278        1\n",
       "Name: item, Length: 2330066, dtype: int64"
      ]
     },
     "execution_count": 12,
     "metadata": {},
     "output_type": "execute_result"
    }
   ],
   "source": [
    "raw['item'].value_counts()"
   ]
  },
  {
   "cell_type": "code",
   "execution_count": 13,
   "metadata": {},
   "outputs": [
    {
     "data": {
      "text/plain": [
       "5.0    13886788\n",
       "4.0     4602554\n",
       "3.0     1922390\n",
       "1.0     1116862\n",
       "2.0      978560\n",
       "Name: rating, dtype: int64"
      ]
     },
     "execution_count": 13,
     "metadata": {},
     "output_type": "execute_result"
    }
   ],
   "source": [
    "raw['rating'].value_counts() #users tend to give good ratings to books they buy"
   ]
  },
  {
   "cell_type": "code",
   "execution_count": 15,
   "metadata": {},
   "outputs": [
    {
     "data": {
      "text/plain": [
       "4.295758939579833"
      ]
     },
     "execution_count": 15,
     "metadata": {},
     "output_type": "execute_result"
    }
   ],
   "source": [
    "raw['rating'].mean() #people tend to read books they think they are going to enjoy anyway."
   ]
  },
  {
   "cell_type": "code",
   "execution_count": null,
   "metadata": {},
   "outputs": [],
   "source": [
    "subset = raw.sample(n = 1000000)"
   ]
  },
  {
   "cell_type": "code",
   "execution_count": null,
   "metadata": {},
   "outputs": [],
   "source": [
    "subset.to_csv('book_ratings.csv')"
   ]
  },
  {
   "cell_type": "code",
   "execution_count": null,
   "metadata": {},
   "outputs": [],
   "source": [
    "subset.head()"
   ]
  },
  {
   "cell_type": "code",
   "execution_count": null,
   "metadata": {},
   "outputs": [],
   "source": []
  }
 ],
 "metadata": {
  "kernelspec": {
   "display_name": "Python 3",
   "language": "python",
   "name": "python3"
  },
  "language_info": {
   "codemirror_mode": {
    "name": "ipython",
    "version": 3
   },
   "file_extension": ".py",
   "mimetype": "text/x-python",
   "name": "python",
   "nbconvert_exporter": "python",
   "pygments_lexer": "ipython3",
   "version": "3.8.5"
  }
 },
 "nbformat": 4,
 "nbformat_minor": 4
}
